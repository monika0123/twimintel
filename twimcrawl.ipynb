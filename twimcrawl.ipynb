{
  "nbformat": 4,
  "nbformat_minor": 0,
  "metadata": {
    "colab": {
      "name": "twimcrawl.ipynb",
      "provenance": [],
      "toc_visible": true
    },
    "kernelspec": {
      "name": "python3",
      "display_name": "Python 3"
    }
  },
  "cells": [
    {
      "cell_type": "code",
      "metadata": {
        "id": "jCN5zJkfY_eF",
        "colab_type": "code",
        "outputId": "2506666b-ec9c-4f16-fbae-ccbc95813354",
        "colab": {
          "base_uri": "https://localhost:8080/",
          "height": 870
        }
      },
      "source": [
        "import numpy as np\n",
        "import pandas as pd\n",
        "import requests\n",
        "import bs4\n",
        "import re\n",
        "\n",
        "import lxml.etree as xml\n",
        "from requests import get\n",
        "from bs4 import BeautifulSoup\n",
        "\n",
        "\n",
        "\n",
        "url=[\"https://medium.com/the-banking-scene/the-future-of-banking-8b2c313f502a\",\"https://medium.com/@abhishekkothari/bracing-for-impact-5681e18be2d4\"]\n",
        "\n",
        "def html_tag_remover(texts):\n",
        "    cleanr = re.compile('<.*?>')\n",
        "    cleantext = re.sub(cleanr, '', texts)\n",
        "    return cleantext\n",
        "data=[]\n",
        "for i in url:\n",
        "  r=requests.get(i)\n",
        "  r.encoding = 'utf-8'\n",
        "  html_content = r.text\n",
        "  html_soup = BeautifulSoup(html_content, 'html.parser')\n",
        "  type(html_soup)\n",
        "  para = html_soup.find_all('p',\"\")\n",
        "\n",
        "  for l in range(len(para)):\n",
        "    contest=html_tag_remover(str(para[l]))\n",
        "    query={\n",
        "            \"Contents\":contest,\n",
        "           }\n",
        "    data.append(query)\n",
        "\n",
        "dataframe=pd.DataFrame(data)\n",
        "dataframe=dataframe.dropna()\n",
        "print(dataframe)\n",
        "dataframe.to_csv('crawl_datset.csv')\n",
        "from google.colab import drive\n",
        "drive.mount('crawl_dataset.csv')"
      ],
      "execution_count": 67,
      "outputs": [
        {
          "output_type": "stream",
          "text": [
            "                                             Contents\n",
            "0   Guest blog for Money2020, written by their fri...\n",
            "1   The journey from unbundling to rebundling and ...\n",
            "2   This is the new normal of transformative busin...\n",
            "3   While it might seem trivial, banks of the futu...\n",
            "4   Looking at corporate technology budgets may he...\n",
            "5   Until recently, a consumer’s financial data wa...\n",
            "6   Since the Open Banking Implementation Entity (...\n",
            "7   In the U.S., though regulatory changes are lik...\n",
            "8   Meanwhile, the emergence of super app models i...\n",
            "9   It is still far too early to judge whether the...\n",
            "10  In a world where Chinese citizens with Chinese...\n",
            "11  It is time to embrace open banking business mo...\n",
            "12                                                ***\n",
            "13  Join us at Money20/20 Europe this June in Amst...\n",
            "14                                 Money20/20 Stories\n",
            "15                                             Agenda\n",
            "16                                         Written by\n",
            "17  Though the principles of the banking trade may...\n",
            "18  This article is a continuation of my two previ...\n",
            "19  It is almost impossible to predict the future ...\n",
            "20  As long as these innovations signal a simpler,...\n",
            "21  What will be needed, just like before, will be...\n",
            "22  One of the biggest disclaimers about the futur...\n",
            "23  For an overview of my discussion on the future...\n",
            "24  The world is increasingly getting digital. Tha...\n",
            "25  Many countries including Russia, China and Aus...\n",
            "26  Even before beginning interaction with a bank,...\n",
            "27  Digital Identity is a very complex topic. Even...\n",
            "28  In 2016, the World Economic Forum (WEF) releas...\n",
            "29  Players in financial services, business enterp...\n",
            "30  As per the WEF, ‘federated identity standards ...\n",
            "31  Augmented Reality (AR) or Mixed Reality would ...\n",
            "32  Inter-operability between various banks would ...\n",
            "33  An omnichannel interface consisting of contact...\n",
            "34  Again, trust over virtual meetings will be bui...\n",
            "35  There is a clear movement towards complete aut...\n",
            "36  The challenge however is how do you build trus...\n",
            "37  Think about people in a place such as Des Moin...\n",
            "38  Functions in the bank such as Accounting, HR, ...\n",
            "39  It is very eerie to note that Marc Andreesen’s...\n",
            "40  A rule based system can be parsed through smar...\n",
            "41  On a simplistic note, if everything can be com...\n",
            "42  If everything is standardized, do banks then b...\n",
            "43  Banks become leaner, cost of servicing and acq...\n",
            "44  Some would say ‘ignorance is bliss’ . To some ...\n",
            "45  Imagination is a very powerful prediction mode...\n",
            "46                                         Written by\n",
            "Drive already mounted at crawl_dataset.csv; to attempt to forcibly remount, call drive.mount(\"crawl_dataset.csv\", force_remount=True).\n"
          ],
          "name": "stdout"
        }
      ]
    }
  ]
}