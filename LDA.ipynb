{
  "nbformat": 4,
  "nbformat_minor": 0,
  "metadata": {
    "colab": {
      "name": "LDA",
      "provenance": [],
      "collapsed_sections": []
    },
    "kernelspec": {
      "name": "python3",
      "display_name": "Python 3"
    }
  },
  "cells": [
    {
      "cell_type": "code",
      "metadata": {
        "id": "6LH3Yjcceako",
        "colab_type": "code",
        "outputId": "b0183535-2744-446b-bf1d-bdc894b73e9e",
        "colab": {
          "base_uri": "https://localhost:8080/",
          "height": 69
        }
      },
      "source": [
        "%matplotlib inline\n",
        "import pandas as pd\n",
        "import numpy as np\n",
        "import nltk\n",
        "from nltk.corpus import stopwords\n",
        "from nltk.probability import FreqDist\n",
        "nltk.download('punkt')\n",
        "import gensim\n",
        "from gensim.models import LdaModel\n",
        "from gensim import models, corpora, similarities\n",
        "import re\n",
        "from nltk.stem.porter import PorterStemmer\n",
        "from nltk.stem import WordNetLemmatizer\n",
        "import time\n",
        "from nltk import entropy\n",
        "import matplotlib.pyplot as plt\n",
        "import seaborn as sns\n",
        "sns.set_style(\"darkgrid\")\n",
        "print(\"Success\")"
      ],
      "execution_count": 0,
      "outputs": [
        {
          "output_type": "stream",
          "text": [
            "[nltk_data] Downloading package punkt to /root/nltk_data...\n",
            "[nltk_data]   Package punkt is already up-to-date!\n",
            "Success\n"
          ],
          "name": "stdout"
        }
      ]
    },
    {
      "cell_type": "code",
      "metadata": {
        "id": "Uw9O9UowfOOC",
        "colab_type": "code",
        "colab": {}
      },
      "source": [
        "file_path = \"/content/Book1.csv\"\n",
        "doc=pd.read_csv(file_path,index_col=None, encoding='utf-8')"
      ],
      "execution_count": 0,
      "outputs": []
    },
    {
      "cell_type": "code",
      "metadata": {
        "id": "BdyaNv0YmJ94",
        "colab_type": "code",
        "colab": {}
      },
      "source": [
        "doc['Content.'].dropna(inplace=True)\n",
        "#doc['Content.'] = doc['Content.'].astype(\"|S\")\n",
        "doc = doc[doc['Content.'].map(type)==str]"
      ],
      "execution_count": 0,
      "outputs": []
    },
    {
      "cell_type": "code",
      "metadata": {
        "id": "D7dDd08xcu59",
        "colab_type": "code",
        "outputId": "5dc5f809-80dc-45a2-8b3f-9bcf0c1747b7",
        "colab": {
          "base_uri": "https://localhost:8080/",
          "height": 802
        }
      },
      "source": [
        "doc.head(25)"
      ],
      "execution_count": 133,
      "outputs": [
        {
          "output_type": "execute_result",
          "data": {
            "text/html": [
              "<div>\n",
              "<style scoped>\n",
              "    .dataframe tbody tr th:only-of-type {\n",
              "        vertical-align: middle;\n",
              "    }\n",
              "\n",
              "    .dataframe tbody tr th {\n",
              "        vertical-align: top;\n",
              "    }\n",
              "\n",
              "    .dataframe thead th {\n",
              "        text-align: right;\n",
              "    }\n",
              "</style>\n",
              "<table border=\"1\" class=\"dataframe\">\n",
              "  <thead>\n",
              "    <tr style=\"text-align: right;\">\n",
              "      <th></th>\n",
              "      <th>article</th>\n",
              "      <th>Content.</th>\n",
              "    </tr>\n",
              "  </thead>\n",
              "  <tbody>\n",
              "    <tr>\n",
              "      <th>0</th>\n",
              "      <td>doc1</td>\n",
              "      <td>How a social media firm created Korea’s fastes...</td>\n",
              "    </tr>\n",
              "    <tr>\n",
              "      <th>1</th>\n",
              "      <td>doc2</td>\n",
              "      <td>South Korea FinTech Gets Initial Approval For ...</td>\n",
              "    </tr>\n",
              "    <tr>\n",
              "      <th>2</th>\n",
              "      <td>doc3</td>\n",
              "      <td>Korea’s digital banks have two speeds: fast an...</td>\n",
              "    </tr>\n",
              "    <tr>\n",
              "      <th>3</th>\n",
              "      <td>doc4</td>\n",
              "      <td>Chart of the Week: Korean virtual banks still ...</td>\n",
              "    </tr>\n",
              "    <tr>\n",
              "      <th>4</th>\n",
              "      <td>doc5</td>\n",
              "      <td>Korean virtual banks succumb to net losses for...</td>\n",
              "    </tr>\n",
              "    <tr>\n",
              "      <th>5</th>\n",
              "      <td>doc6</td>\n",
              "      <td>Expert Insights Virtual banking is disrupting ...</td>\n",
              "    </tr>\n",
              "    <tr>\n",
              "      <th>6</th>\n",
              "      <td>doc7</td>\n",
              "      <td>South Korea is trying to make banking fun.\\nNe...</td>\n",
              "    </tr>\n",
              "    <tr>\n",
              "      <th>7</th>\n",
              "      <td>doc8</td>\n",
              "      <td>The Future Of Banking: Virtual Banks Chase the...</td>\n",
              "    </tr>\n",
              "    <tr>\n",
              "      <th>8</th>\n",
              "      <td>doc9</td>\n",
              "      <td>Asia boasts one of the world’s most active fin...</td>\n",
              "    </tr>\n",
              "    <tr>\n",
              "      <th>9</th>\n",
              "      <td>doc10</td>\n",
              "      <td>Korea Virtual Banking\\nSouth Korea Eyeing to G...</td>\n",
              "    </tr>\n",
              "    <tr>\n",
              "      <th>10</th>\n",
              "      <td>doc11</td>\n",
              "      <td>Korea Virtual Banking\\nSouth Korea Eyeing to ...</td>\n",
              "    </tr>\n",
              "    <tr>\n",
              "      <th>11</th>\n",
              "      <td>doc12</td>\n",
              "      <td>Korea\\nSouth Korea’s fintech race heats up\\nAN...</td>\n",
              "    </tr>\n",
              "    <tr>\n",
              "      <th>12</th>\n",
              "      <td>doc13</td>\n",
              "      <td>Banking in Asia-PacificTime to reinvent the di...</td>\n",
              "    </tr>\n",
              "    <tr>\n",
              "      <th>13</th>\n",
              "      <td>doc14</td>\n",
              "      <td>How a Messaging App Challenged Traditional Ban...</td>\n",
              "    </tr>\n",
              "    <tr>\n",
              "      <th>14</th>\n",
              "      <td>doc15</td>\n",
              "      <td>Financial governance and policy learning in Ko...</td>\n",
              "    </tr>\n",
              "    <tr>\n",
              "      <th>15</th>\n",
              "      <td>doc16</td>\n",
              "      <td>Singapore central bank studying licences for v...</td>\n",
              "    </tr>\n",
              "    <tr>\n",
              "      <th>16</th>\n",
              "      <td>doc17</td>\n",
              "      <td>ResearchGate\\nDescription\\nThis document descr...</td>\n",
              "    </tr>\n",
              "    <tr>\n",
              "      <th>17</th>\n",
              "      <td>doc19</td>\n",
              "      <td>Online Banking Market by Banking Type (Retail ...</td>\n",
              "    </tr>\n",
              "    <tr>\n",
              "      <th>18</th>\n",
              "      <td>doc20</td>\n",
              "      <td>Financial Technology – Fintech.\\n What Is Fina...</td>\n",
              "    </tr>\n",
              "    <tr>\n",
              "      <th>19</th>\n",
              "      <td>doc21</td>\n",
              "      <td>2019 Banking Industry Outlook\\nOptimism for ba...</td>\n",
              "    </tr>\n",
              "    <tr>\n",
              "      <th>20</th>\n",
              "      <td>doc22</td>\n",
              "      <td>Banks Brace for a New Wave of Digital Disrupti...</td>\n",
              "    </tr>\n",
              "    <tr>\n",
              "      <th>21</th>\n",
              "      <td>doc23</td>\n",
              "      <td>On October 30, South Korea’s main financial au...</td>\n",
              "    </tr>\n",
              "    <tr>\n",
              "      <th>22</th>\n",
              "      <td>doc24</td>\n",
              "      <td>Fintech in South Korea.\\nWhat is the general s...</td>\n",
              "    </tr>\n",
              "    <tr>\n",
              "      <th>23</th>\n",
              "      <td>doc25</td>\n",
              "      <td>A NEW LANDSCAPE FOR RETAIL BANKING \\n \\n\\n \\n\\...</td>\n",
              "    </tr>\n",
              "  </tbody>\n",
              "</table>\n",
              "</div>"
            ],
            "text/plain": [
              "   article                                           Content.\n",
              "0     doc1  How a social media firm created Korea’s fastes...\n",
              "1     doc2  South Korea FinTech Gets Initial Approval For ...\n",
              "2     doc3  Korea’s digital banks have two speeds: fast an...\n",
              "3     doc4  Chart of the Week: Korean virtual banks still ...\n",
              "4     doc5  Korean virtual banks succumb to net losses for...\n",
              "5     doc6  Expert Insights Virtual banking is disrupting ...\n",
              "6     doc7  South Korea is trying to make banking fun.\\nNe...\n",
              "7     doc8  The Future Of Banking: Virtual Banks Chase the...\n",
              "8     doc9  Asia boasts one of the world’s most active fin...\n",
              "9    doc10  Korea Virtual Banking\\nSouth Korea Eyeing to G...\n",
              "10   doc11   Korea Virtual Banking\\nSouth Korea Eyeing to ...\n",
              "11   doc12  Korea\\nSouth Korea’s fintech race heats up\\nAN...\n",
              "12   doc13  Banking in Asia-PacificTime to reinvent the di...\n",
              "13   doc14  How a Messaging App Challenged Traditional Ban...\n",
              "14   doc15  Financial governance and policy learning in Ko...\n",
              "15   doc16  Singapore central bank studying licences for v...\n",
              "16   doc17  ResearchGate\\nDescription\\nThis document descr...\n",
              "17   doc19  Online Banking Market by Banking Type (Retail ...\n",
              "18   doc20  Financial Technology – Fintech.\\n What Is Fina...\n",
              "19   doc21  2019 Banking Industry Outlook\\nOptimism for ba...\n",
              "20   doc22  Banks Brace for a New Wave of Digital Disrupti...\n",
              "21   doc23  On October 30, South Korea’s main financial au...\n",
              "22   doc24  Fintech in South Korea.\\nWhat is the general s...\n",
              "23   doc25  A NEW LANDSCAPE FOR RETAIL BANKING \\n \\n\\n \\n\\..."
            ]
          },
          "metadata": {
            "tags": []
          },
          "execution_count": 133
        }
      ]
    },
    {
      "cell_type": "code",
      "metadata": {
        "id": "LQNyhnaQe5gv",
        "colab_type": "code",
        "outputId": "435f5b09-3509-4547-e731-9374e4b18485",
        "colab": {
          "base_uri": "https://localhost:8080/",
          "height": 206
        }
      },
      "source": [
        "doc = doc.sample(frac=1.0)\n",
        "doc.reset_index(drop=True,inplace=True)\n",
        "doc.head()"
      ],
      "execution_count": 134,
      "outputs": [
        {
          "output_type": "execute_result",
          "data": {
            "text/html": [
              "<div>\n",
              "<style scoped>\n",
              "    .dataframe tbody tr th:only-of-type {\n",
              "        vertical-align: middle;\n",
              "    }\n",
              "\n",
              "    .dataframe tbody tr th {\n",
              "        vertical-align: top;\n",
              "    }\n",
              "\n",
              "    .dataframe thead th {\n",
              "        text-align: right;\n",
              "    }\n",
              "</style>\n",
              "<table border=\"1\" class=\"dataframe\">\n",
              "  <thead>\n",
              "    <tr style=\"text-align: right;\">\n",
              "      <th></th>\n",
              "      <th>article</th>\n",
              "      <th>Content.</th>\n",
              "    </tr>\n",
              "  </thead>\n",
              "  <tbody>\n",
              "    <tr>\n",
              "      <th>0</th>\n",
              "      <td>doc2</td>\n",
              "      <td>South Korea FinTech Gets Initial Approval For ...</td>\n",
              "    </tr>\n",
              "    <tr>\n",
              "      <th>1</th>\n",
              "      <td>doc9</td>\n",
              "      <td>Asia boasts one of the world’s most active fin...</td>\n",
              "    </tr>\n",
              "    <tr>\n",
              "      <th>2</th>\n",
              "      <td>doc10</td>\n",
              "      <td>Korea Virtual Banking\\nSouth Korea Eyeing to G...</td>\n",
              "    </tr>\n",
              "    <tr>\n",
              "      <th>3</th>\n",
              "      <td>doc21</td>\n",
              "      <td>2019 Banking Industry Outlook\\nOptimism for ba...</td>\n",
              "    </tr>\n",
              "    <tr>\n",
              "      <th>4</th>\n",
              "      <td>doc12</td>\n",
              "      <td>Korea\\nSouth Korea’s fintech race heats up\\nAN...</td>\n",
              "    </tr>\n",
              "  </tbody>\n",
              "</table>\n",
              "</div>"
            ],
            "text/plain": [
              "  article                                           Content.\n",
              "0    doc2  South Korea FinTech Gets Initial Approval For ...\n",
              "1    doc9  Asia boasts one of the world’s most active fin...\n",
              "2   doc10  Korea Virtual Banking\\nSouth Korea Eyeing to G...\n",
              "3   doc21  2019 Banking Industry Outlook\\nOptimism for ba...\n",
              "4   doc12  Korea\\nSouth Korea’s fintech race heats up\\nAN..."
            ]
          },
          "metadata": {
            "tags": []
          },
          "execution_count": 134
        }
      ]
    },
    {
      "cell_type": "code",
      "metadata": {
        "id": "jr8tfYs-fPeC",
        "colab_type": "code",
        "outputId": "c4b8f97f-42d7-4600-bb8c-1b64bd90ebae",
        "colab": {
          "base_uri": "https://localhost:8080/",
          "height": 86
        }
      },
      "source": [
        "def initial_clean(text):\n",
        "    \"\"\"\n",
        "    Function to clean text of websites, email addresess and any punctuation\n",
        "    We also lower case the text\n",
        "    \"\"\"\n",
        "    text = re.sub(\"((\\S+)?(http(s)?)(\\S+))|((\\S+)?(www)(\\S+))|((\\S+)?(\\@)(\\S+)?)\", \" \", text)\n",
        "    text = re.sub(\"[^a-zA-Z ]\", \"\", text)\n",
        "    text = text.lower() # lower case the text\n",
        "    text = nltk.word_tokenize(text)\n",
        "    return text\n",
        "\n",
        "nltk.download('stopwords')\n",
        "stop_words = stopwords.words('english')\n",
        "def remove_stop_words(text):\n",
        "    \"\"\"\n",
        "    Function that removes all stopwords from text\n",
        "    \"\"\"\n",
        "    return [word for word in text if word not in stop_words]\n",
        "\n",
        "stemmer = PorterStemmer()\n",
        "def stem_words(text):\n",
        "    \"\"\"\n",
        "    Function to stem words, so plural and singular are treated the same\n",
        "    \"\"\"\n",
        "    try:\n",
        "        text = [stemmer.stem(word) for word in text]\n",
        "        text = [word for word in text if len(word) > 1] # make sure we have no 1 letter words\n",
        "    except IndexError: # the word \"oed\" broke this, so needed try except\n",
        "        pass\n",
        "    return text\n",
        "    \n",
        "nltk.download('wordnet')\n",
        "lemmatizer = WordNetLemmatizer()\n",
        "\n",
        "def word_lemmatizer(text):\n",
        "  text=[lemmatizer.lemmatize(word) for word in text if len(word)>2]\n",
        "  return text\n",
        "\n",
        "def apply_all(text):\n",
        "    \"\"\"\n",
        "    This function applies all the functions above into one\n",
        "    \"\"\"\n",
        "    return word_lemmatizer(remove_stop_words(initial_clean(text))) #stemming removed currently"
      ],
      "execution_count": 148,
      "outputs": [
        {
          "output_type": "stream",
          "text": [
            "[nltk_data] Downloading package stopwords to /root/nltk_data...\n",
            "[nltk_data]   Package stopwords is already up-to-date!\n",
            "[nltk_data] Downloading package wordnet to /root/nltk_data...\n",
            "[nltk_data]   Package wordnet is already up-to-date!\n"
          ],
          "name": "stdout"
        }
      ]
    },
    {
      "cell_type": "code",
      "metadata": {
        "id": "5I6TJ-S7fpi0",
        "colab_type": "code",
        "outputId": "09e5a7a0-50ee-4498-f000-af8a7a4bbeee",
        "colab": {
          "base_uri": "https://localhost:8080/",
          "height": 34
        }
      },
      "source": [
        "# clean text and title and create new column \"tokenized\"\n",
        "t1 = time.time()\n",
        "doc['tokenized'] = doc['Content.'].apply(apply_all)\n",
        "t2 = time.time()\n",
        "print(\"Time to clean and tokenize\", len(doc), \"articles:\", (t2-t1)/60, \"min\")"
      ],
      "execution_count": 149,
      "outputs": [
        {
          "output_type": "stream",
          "text": [
            "Time to clean and tokenize 24 articles: 0.008587785561879476 min\n"
          ],
          "name": "stdout"
        }
      ]
    },
    {
      "cell_type": "code",
      "metadata": {
        "id": "b8vswZRCqBfW",
        "colab_type": "code",
        "outputId": "f0dcd5df-ff77-4926-8b32-a5785ada3869",
        "colab": {
          "base_uri": "https://localhost:8080/",
          "height": 451
        }
      },
      "source": [
        "doc['tokenized']"
      ],
      "execution_count": 150,
      "outputs": [
        {
          "output_type": "execute_result",
          "data": {
            "text/plain": [
              "0     [south, korea, fintech, get, initial, approval...\n",
              "1     [asia, boast, one, world, active, financial, t...\n",
              "2     [korea, virtual, bankingsouth, korea, eyeing, ...\n",
              "3     [banking, industry, outlookoptimism, banking, ...\n",
              "4     [koreasouth, korea, fintech, race, heat, upan,...\n",
              "5     [chart, week, korean, virtual, bank, still, st...\n",
              "6     [south, korea, trying, make, banking, funnew, ...\n",
              "7     [social, medium, firm, created, korea, fastest...\n",
              "8     [bank, brace, new, wave, digital, disruptionwh...\n",
              "9     [expert, insight, virtual, banking, disrupting...\n",
              "10    [financial, governance, policy, learning, kore...\n",
              "11    [messaging, app, challenged, traditional, bank...\n",
              "12    [singapore, central, bank, studying, licence, ...\n",
              "13    [korea, virtual, bankingsouth, korea, eyeing, ...\n",
              "14    [october, south, korea, main, financial, autho...\n",
              "15    [korean, virtual, bank, succumb, net, loss, tw...\n",
              "16    [korea, digital, bank, two, speed, fast, faste...\n",
              "17    [banking, asiapacifictime, reinvent, digital, ...\n",
              "18    [fintech, south, koreawhat, general, state, fi...\n",
              "19    [researchgatedescriptionthis, document, descri...\n",
              "20    [financial, technology, fintech, financial, te...\n",
              "21    [future, banking, virtual, bank, chase, dream,...\n",
              "22    [online, banking, market, banking, type, retai...\n",
              "23    [new, landscape, retail, banking, key, takeawa...\n",
              "Name: tokenized, dtype: object"
            ]
          },
          "metadata": {
            "tags": []
          },
          "execution_count": 150
        }
      ]
    },
    {
      "cell_type": "code",
      "metadata": {
        "id": "Qw59dNTrgqkm",
        "colab_type": "code",
        "outputId": "ad2b87e0-d989-4aa5-846a-8ace50a7d6aa",
        "colab": {
          "base_uri": "https://localhost:8080/",
          "height": 34
        }
      },
      "source": [
        "# first get a list of all words\n",
        "all_words = [word for item in list(doc['tokenized']) for word in item]\n",
        "# use nltk fdist to get a frequency distribution of all words\n",
        "fdist = FreqDist(all_words)\n",
        "len(fdist) # number of unique words"
      ],
      "execution_count": 151,
      "outputs": [
        {
          "output_type": "execute_result",
          "data": {
            "text/plain": [
              "4712"
            ]
          },
          "metadata": {
            "tags": []
          },
          "execution_count": 151
        }
      ]
    },
    {
      "cell_type": "code",
      "metadata": {
        "id": "yaX1gX6KnY1w",
        "colab_type": "code",
        "outputId": "200105ab-3335-4efe-e628-49b5ea3c5bd2",
        "colab": {
          "base_uri": "https://localhost:8080/",
          "height": 191
        }
      },
      "source": [
        "k = 10\n",
        "top_k_words = fdist.most_common(k)\n",
        "top_k_words[-10:]"
      ],
      "execution_count": 202,
      "outputs": [
        {
          "output_type": "execute_result",
          "data": {
            "text/plain": [
              "[('bank', 674),\n",
              " ('banking', 312),\n",
              " ('financial', 290),\n",
              " ('service', 195),\n",
              " ('virtual', 169),\n",
              " ('digital', 166),\n",
              " ('customer', 166),\n",
              " ('korea', 162),\n",
              " ('new', 151),\n",
              " ('market', 135)]"
            ]
          },
          "metadata": {
            "tags": []
          },
          "execution_count": 202
        }
      ]
    },
    {
      "cell_type": "code",
      "metadata": {
        "id": "RbTBFmxYoRZZ",
        "colab_type": "code",
        "colab": {}
      },
      "source": [
        "# define a function only to keep words in the top k words\n",
        "top_k_words,_ = zip(*fdist.most_common(k))\n",
        "top_k_words = set(top_k_words)\n",
        "def keep_top_k_words(text):\n",
        "    return [word for word in text if word in top_k_words]"
      ],
      "execution_count": 0,
      "outputs": []
    },
    {
      "cell_type": "code",
      "metadata": {
        "id": "ZP00nT_OBmbk",
        "colab_type": "code",
        "colab": {
          "base_uri": "https://localhost:8080/",
          "height": 451
        },
        "outputId": "c94c1418-b63e-4d59-9f97-917cf27a38e2"
      },
      "source": [
        "doc['tokenized'] = doc['tokenized'].apply(keep_top_k_words)\n",
        "doc['tokenized']"
      ],
      "execution_count": 204,
      "outputs": [
        {
          "output_type": "execute_result",
          "data": {
            "text/plain": [
              "0     [korea, financial, service, digital, banking, ...\n",
              "1     [financial, digital, financial, service, virtu...\n",
              "2     [korea, virtual, korea, virtual, banking, kore...\n",
              "3     [banking, banking, new, banking, financial, ba...\n",
              "4     [korea, new, korea, financial, customer, bank,...\n",
              "5     [virtual, bank, korea, virtual, bank, korea, b...\n",
              "6     [korea, banking, banking, banking, bank, bank,...\n",
              "7     [korea, bank, korea, bank, banking, digital, b...\n",
              "8     [bank, new, digital, bank, customer, bank, fin...\n",
              "9     [virtual, banking, financial, service, financi...\n",
              "10    [financial, korea, financial, financial, finan...\n",
              "11    [bank, banking, banking, korea, bank, korea, f...\n",
              "12    [bank, virtual, bank, financial, bank, market,...\n",
              "13    [korea, virtual, korea, virtual, banking, kore...\n",
              "14    [korea, financial, bank, korea, financial, ser...\n",
              "15    [virtual, bank, bank, bank, bank, korea, korea...\n",
              "16    [korea, digital, bank, financial, korea, finan...\n",
              "17    [banking, digital, banking, banking, financial...\n",
              "18    [service, service, financial, new, service, ko...\n",
              "19    [korea, korea, banking, bank, financial, servi...\n",
              "20    [financial, financial, new, financial, service...\n",
              "21    [banking, virtual, bank, financial, service, b...\n",
              "22    [banking, market, banking, banking, banking, b...\n",
              "23    [new, banking, virtual, banking, banking, virt...\n",
              "Name: tokenized, dtype: object"
            ]
          },
          "metadata": {
            "tags": []
          },
          "execution_count": 204
        }
      ]
    },
    {
      "cell_type": "code",
      "metadata": {
        "id": "SvEJO2K3CCh6",
        "colab_type": "code",
        "colab": {
          "base_uri": "https://localhost:8080/",
          "height": 86
        },
        "outputId": "1481808c-39c9-4378-843f-057dfe659154"
      },
      "source": [
        "# document length\n",
        "doc['doc_len'] = doc['tokenized'].apply(lambda x: len(x))\n",
        "doc_lengths = list(doc['doc_len'])\n",
        "doc.drop(labels='doc_len', axis=1, inplace=True)\n",
        "\n",
        "print(\"length of list:\",len(doc_lengths),\n",
        "      \"\\naverage document length\", np.average(doc_lengths),\n",
        "      \"\\nminimum document length\", min(doc_lengths),\n",
        "      \"\\nmaximum document length\", max(doc_lengths))"
      ],
      "execution_count": 205,
      "outputs": [
        {
          "output_type": "stream",
          "text": [
            "length of list: 24 \n",
            "average document length 100.83333333333333 \n",
            "minimum document length 24 \n",
            "maximum document length 315\n"
          ],
          "name": "stdout"
        }
      ]
    },
    {
      "cell_type": "code",
      "metadata": {
        "id": "2FOzP53HBpwW",
        "colab_type": "code",
        "colab": {
          "base_uri": "https://localhost:8080/",
          "height": 441
        },
        "outputId": "f15e351a-e060-473e-f0c0-766e4545dd83"
      },
      "source": [
        "# plot a histogram of document length\n",
        "num_bins = 10\n",
        "fig, ax = plt.subplots(figsize=(12,6));\n",
        "# the histogram of the data\n",
        "n, bins, patches = ax.hist(doc_lengths, num_bins)\n",
        "ax.set_xlabel('Document Length (tokens)', fontsize=15)\n",
        "ax.set_ylabel('Normed Frequency', fontsize=15)\n",
        "ax.grid()\n",
        "ax.set_xticks(np.logspace(start=np.log10(50),stop=np.log10(2000),num=8, base=10.0))\n",
        "plt.xlim(0,2000)\n",
        "ax.plot([np.average(doc_lengths) for i in np.linspace(0.0,0.0035,100)], np.linspace(0.0,0.0035,100), '-',\n",
        "        label='average doc length')\n",
        "ax.legend()\n",
        "ax.grid()\n",
        "fig.tight_layout()\n",
        "plt.show()"
      ],
      "execution_count": 207,
      "outputs": [
        {
          "output_type": "display_data",
          "data": {
            "image/png": "[encoded data removed]",
            "text/plain": [
              "<Figure size 864x432 with 1 Axes>"
            ]
          },
          "metadata": {
            "tags": []
          }
        }
      ]
    },
    {
      "cell_type": "code",
      "metadata": {
        "id": "Z2pnZqiqB729",
        "colab_type": "code",
        "colab": {
          "base_uri": "https://localhost:8080/",
          "height": 34
        },
        "outputId": "b2728efe-85ef-48be-9deb-caea8c9c9dcf"
      },
      "source": [
        "# only keep articles with more than 30 tokens, otherwise too short\n",
        "doc = doc[doc['tokenized'].map(len) >= 40]\n",
        "# make sure all tokenized items are lists\n",
        "doc = doc[doc['tokenized'].map(type) == list]\n",
        "doc.reset_index(drop=True,inplace=True)\n",
        "print(\"After cleaning and excluding short aticles, the dataframe now has:\", len(doc), \"articles\")"
      ],
      "execution_count": 208,
      "outputs": [
        {
          "output_type": "stream",
          "text": [
            "After cleaning and excluding short aticles, the dataframe now has: 19 articles\n"
          ],
          "name": "stdout"
        }
      ]
    },
    {
      "cell_type": "code",
      "metadata": {
        "id": "L1TrzBhxC38Z",
        "colab_type": "code",
        "colab": {}
      },
      "source": [
        "# create a mask of binary values\n",
        "msk = np.random.rand(len(doc)) < 0.999"
      ],
      "execution_count": 0,
      "outputs": []
    },
    {
      "cell_type": "code",
      "metadata": {
        "id": "g8KWkg_9DAYr",
        "colab_type": "code",
        "colab": {}
      },
      "source": [
        "train_doc = doc[msk]\n",
        "train_doc.reset_index(drop=True,inplace=True)\n",
        "\n",
        "test_doc = doc[~msk]\n",
        "test_doc.reset_index(drop=True,inplace=True)"
      ],
      "execution_count": 0,
      "outputs": []
    },
    {
      "cell_type": "code",
      "metadata": {
        "id": "XZ-NERP4DXMf",
        "colab_type": "code",
        "colab": {
          "base_uri": "https://localhost:8080/",
          "height": 34
        },
        "outputId": "1d30452f-2455-489e-baa1-146b2a547d4b"
      },
      "source": [
        "print(len(doc),len(train_doc),len(test_doc))"
      ],
      "execution_count": 211,
      "outputs": [
        {
          "output_type": "stream",
          "text": [
            "19 19 0\n"
          ],
          "name": "stdout"
        }
      ]
    },
    {
      "cell_type": "code",
      "metadata": {
        "id": "ipgnqE6nDfCr",
        "colab_type": "code",
        "colab": {}
      },
      "source": [
        "def train_lda(data):\n",
        "    \"\"\"\n",
        "    This function trains the lda model\n",
        "    We setup parameters like number of topics, the chunksize to use in Hoffman method\n",
        "    We also do 2 passes of the data since this is a small dataset, so we want the distributions to stabilize\n",
        "    \"\"\"\n",
        "    num_topics = 5\n",
        "    chunksize = 30\n",
        "    dictionary = corpora.Dictionary(doc['tokenized'])\n",
        "    corpus = [dictionary.doc2bow(doc1) for doc1 in doc['tokenized']]\n",
        "    t1 = time.time()\n",
        "    # low alpha means each document is only represented by a small number of topics, and vice versa\n",
        "    # low eta means each topic is only represented by a small number of words, and vice versa\n",
        "    lda = LdaModel(corpus=corpus, num_topics=num_topics, id2word=dictionary,\n",
        "                   alpha=1e-2, eta=0.5e-2, chunksize=chunksize, minimum_probability=0.0, passes=2)\n",
        "    t2 = time.time()\n",
        "    print(\"Time to train LDA model on \", len(doc), \"articles: \", (t2-t1)/60, \"min\")\n",
        "    return dictionary,corpus,lda"
      ],
      "execution_count": 0,
      "outputs": []
    },
    {
      "cell_type": "code",
      "metadata": {
        "id": "N_kyXKWhD6d-",
        "colab_type": "code",
        "colab": {
          "base_uri": "https://localhost:8080/",
          "height": 34
        },
        "outputId": "a3afb496-a37b-42ec-a37b-f6f4f8e1de88"
      },
      "source": [
        "dictionary,corpus,lda = train_lda(train_doc)"
      ],
      "execution_count": 214,
      "outputs": [
        {
          "output_type": "stream",
          "text": [
            "Time to train LDA model on  19 articles:  0.001004791259765625 min\n"
          ],
          "name": "stdout"
        }
      ]
    },
    {
      "cell_type": "code",
      "metadata": {
        "id": "2uQtAg6mD_Dl",
        "colab_type": "code",
        "colab": {
          "base_uri": "https://localhost:8080/",
          "height": 191
        },
        "outputId": "f7f4c006-fbf9-453b-b09f-0a5ebb0563c1"
      },
      "source": [
        "lda.show_topic(topicid=0, topn=10)"
      ],
      "execution_count": 220,
      "outputs": [
        {
          "output_type": "execute_result",
          "data": {
            "text/plain": [
              "[('bank', 0.36724377),\n",
              " ('digital', 0.18106647),\n",
              " ('customer', 0.17590177),\n",
              " ('service', 0.0820359),\n",
              " ('new', 0.07875593),\n",
              " ('banking', 0.053456433),\n",
              " ('korea', 0.028211242),\n",
              " ('financial', 0.020785071),\n",
              " ('market', 0.009695195),\n",
              " ('virtual', 0.0028482757)]"
            ]
          },
          "metadata": {
            "tags": []
          },
          "execution_count": 220
        }
      ]
    },
    {
      "cell_type": "code",
      "metadata": {
        "id": "CL7wMlJuEEIL",
        "colab_type": "code",
        "colab": {
          "base_uri": "https://localhost:8080/",
          "height": 191
        },
        "outputId": "8abb8ee7-21d6-4396-8e9a-e65a818ed92a"
      },
      "source": [
        "lda.show_topic(topicid=1, topn=10)"
      ],
      "execution_count": 221,
      "outputs": [
        {
          "output_type": "execute_result",
          "data": {
            "text/plain": [
              "[('virtual', 0.26595205),\n",
              " ('bank', 0.19558483),\n",
              " ('new', 0.1327998),\n",
              " ('banking', 0.10511593),\n",
              " ('service', 0.10345126),\n",
              " ('customer', 0.06540372),\n",
              " ('financial', 0.043900065),\n",
              " ('digital', 0.043175593),\n",
              " ('korea', 0.03125225),\n",
              " ('market', 0.013364566)]"
            ]
          },
          "metadata": {
            "tags": []
          },
          "execution_count": 221
        }
      ]
    },
    {
      "cell_type": "code",
      "metadata": {
        "id": "BTxRzPsKEfuX",
        "colab_type": "code",
        "colab": {
          "base_uri": "https://localhost:8080/",
          "height": 191
        },
        "outputId": "42727b4a-158b-44df-8acd-c9467601d7f8"
      },
      "source": [
        "lda.show_topic(topicid=2, topn=10)"
      ],
      "execution_count": 222,
      "outputs": [
        {
          "output_type": "execute_result",
          "data": {
            "text/plain": [
              "[('financial', 0.3639336),\n",
              " ('service', 0.20577799),\n",
              " ('bank', 0.094756015),\n",
              " ('korea', 0.08504793),\n",
              " ('market', 0.07041825),\n",
              " ('banking', 0.06152726),\n",
              " ('new', 0.054420218),\n",
              " ('customer', 0.040679537),\n",
              " ('digital', 0.015131226),\n",
              " ('virtual', 0.008307983)]"
            ]
          },
          "metadata": {
            "tags": []
          },
          "execution_count": 222
        }
      ]
    },
    {
      "cell_type": "code",
      "metadata": {
        "id": "TYU6iFrvLyW_",
        "colab_type": "code",
        "colab": {
          "base_uri": "https://localhost:8080/",
          "height": 191
        },
        "outputId": "6cf71096-19c3-414e-9dce-05ba90b99793"
      },
      "source": [
        "lda.show_topic(topicid=3, topn=10)"
      ],
      "execution_count": 223,
      "outputs": [
        {
          "output_type": "execute_result",
          "data": {
            "text/plain": [
              "[('bank', 0.2568022),\n",
              " ('korea', 0.24474497),\n",
              " ('financial', 0.12672916),\n",
              " ('market', 0.09187761),\n",
              " ('service', 0.09043411),\n",
              " ('digital', 0.049669903),\n",
              " ('virtual', 0.04865805),\n",
              " ('new', 0.048219964),\n",
              " ('banking', 0.030159382),\n",
              " ('customer', 0.012704701)]"
            ]
          },
          "metadata": {
            "tags": []
          },
          "execution_count": 223
        }
      ]
    },
    {
      "cell_type": "code",
      "metadata": {
        "id": "KTHKzxoxL3jh",
        "colab_type": "code",
        "colab": {
          "base_uri": "https://localhost:8080/",
          "height": 191
        },
        "outputId": "f829a794-a57f-4672-dbc2-9b634e57210e"
      },
      "source": [
        "lda.show_topic(topicid=4, topn=10)"
      ],
      "execution_count": 224,
      "outputs": [
        {
          "output_type": "execute_result",
          "data": {
            "text/plain": [
              "[('bank', 0.30580047),\n",
              " ('banking', 0.18909766),\n",
              " ('virtual', 0.1043617),\n",
              " ('financial', 0.06928973),\n",
              " ('customer', 0.06803639),\n",
              " ('new', 0.06717169),\n",
              " ('digital', 0.06531612),\n",
              " ('market', 0.05959398),\n",
              " ('service', 0.038440764),\n",
              " ('korea', 0.032891534)]"
            ]
          },
          "metadata": {
            "tags": []
          },
          "execution_count": 224
        }
      ]
    },
    {
      "cell_type": "code",
      "metadata": {
        "id": "WxRCNr71L5Gy",
        "colab_type": "code",
        "colab": {
          "base_uri": "https://localhost:8080/",
          "height": 34
        },
        "outputId": "f30cd3a8-ef23-49d0-c0b2-5592dbbcbb1e"
      },
      "source": [
        "random_article_index = np.random.randint(len(train_doc))\n",
        "bow = dictionary.doc2bow(train_doc.iloc[6,2])\n",
        "print(7)"
      ],
      "execution_count": 244,
      "outputs": [
        {
          "output_type": "stream",
          "text": [
            "7\n"
          ],
          "name": "stdout"
        }
      ]
    },
    {
      "cell_type": "code",
      "metadata": {
        "id": "Gq0N0AzzMI8T",
        "colab_type": "code",
        "colab": {
          "base_uri": "https://localhost:8080/",
          "height": 54
        },
        "outputId": "b1668fc8-81ed-4a92-c584-928dee5e06a6"
      },
      "source": [
        "print(train_doc.iloc[6,2])"
      ],
      "execution_count": 250,
      "outputs": [
        {
          "output_type": "stream",
          "text": [
            "['bank', 'new', 'digital', 'bank', 'customer', 'bank', 'financial', 'new', 'service', 'bank', 'bank', 'digital', 'bank', 'service', 'digital', 'service', 'bank', 'bank', 'bank', 'customer', 'banking', 'bank', 'banking', 'bank', 'banking', 'bank', 'banking', 'bank', 'bank', 'new', 'market', 'customer', 'new', 'customer', 'banking', 'bank', 'bank', 'bank', 'digital', 'banking', 'bank', 'bank', 'customer', 'digital', 'bank', 'customer', 'banking', 'service', 'digital', 'bank', 'digital', 'banking', 'digital', 'digital', 'financial', 'service', 'bank', 'customer', 'digital', 'bank', 'digital', 'new', 'new', 'digital', 'bank', 'bank', 'customer', 'digital', 'bank', 'customer', 'bank', 'customer', 'customer', 'bank', 'digital', 'customer', 'bank', 'bank', 'banking', 'digital', 'bank', 'bank', 'digital', 'bank', 'digital', 'digital', 'bank', 'digital', 'bank', 'service', 'new', 'customer', 'bank', 'new', 'service', 'bank', 'customer', 'bank', 'bank', 'bank', 'digital', 'customer', 'digital', 'bank', 'digital', 'digital', 'bank', 'digital', 'market', 'digital', 'bank', 'digital', 'digital', 'digital', 'bank', 'digital', 'customer', 'bank', 'digital', 'bank', 'bank', 'customer', 'bank', 'bank', 'bank', 'customer', 'banking', 'service', 'customer', 'bank', 'bank', 'customer', 'bank', 'customer', 'customer', 'customer', 'bank', 'customer', 'customer', 'bank', 'bank', 'customer', 'bank', 'banking', 'customer', 'bank', 'bank', 'customer', 'customer', 'bank', 'service', 'bank', 'customer', 'bank', 'customer', 'customer', 'customer', 'customer', 'bank', 'bank', 'bank', 'digital', 'digital', 'customer', 'bank', 'digital', 'new', 'bank', 'customer', 'bank', 'bank', 'digital', 'bank', 'digital', 'new', 'bank', 'new', 'service', 'digital', 'bank', 'digital', 'bank', 'digital', 'new', 'bank', 'new', 'digital', 'digital', 'customer', 'bank', 'bank', 'bank', 'virtual', 'service', 'service', 'service', 'bank', 'digital', 'bank', 'digital', 'customer', 'bank', 'service', 'bank', 'service', 'service', 'bank', 'digital', 'bank', 'customer', 'bank', 'service', 'digital', 'bank', 'financial', 'bank', 'bank', 'digital', 'customer', 'new', 'bank', 'new', 'bank']\n"
          ],
          "name": "stdout"
        }
      ]
    },
    {
      "cell_type": "code",
      "metadata": {
        "id": "xTlCbMBcMV_X",
        "colab_type": "code",
        "colab": {}
      },
      "source": [
        "doc_distribution = np.array([tup[1] for tup in lda.get_document_topics(bow=bow)])"
      ],
      "execution_count": 0,
      "outputs": []
    },
    {
      "cell_type": "code",
      "metadata": {
        "id": "mvobMzYYMyBK",
        "colab_type": "code",
        "colab": {
          "base_uri": "https://localhost:8080/",
          "height": 441
        },
        "outputId": "959c409d-7ffc-489b-a184-ec08b7ee132d"
      },
      "source": [
        "# bar plot of topic distribution for this document\n",
        "fig, ax = plt.subplots(figsize=(12,6));\n",
        "# the histogram of the data\n",
        "patches = ax.bar(np.arange(len(doc_distribution)), doc_distribution)\n",
        "ax.set_xlabel('Topic ID', fontsize=15)\n",
        "ax.set_ylabel('Topic Contribution', fontsize=15)\n",
        "ax.set_title(\"Topic Distribution for Article \" + str(6), fontsize=20)\n",
        "ax.set_xticks(np.linspace(10,100,10))\n",
        "fig.tight_layout()\n",
        "plt.show()"
      ],
      "execution_count": 253,
      "outputs": [
        {
          "output_type": "display_data",
          "data": {
            "image/png": "[encoded data removed]",
            "text/plain": [
              "<Figure size 864x432 with 1 Axes>"
            ]
          },
          "metadata": {
            "tags": []
          }
        }
      ]
    },
    {
      "cell_type": "code",
      "metadata": {
        "id": "jltC7Q7BM3xC",
        "colab_type": "code",
        "colab": {
          "base_uri": "https://localhost:8080/",
          "height": 211
        },
        "outputId": "091c300e-8b01-4db8-b0af-cebed2d894b7"
      },
      "source": [
        "for i in doc_distribution.argsort()[0:][::-1]:\n",
        "    print(i, lda.show_topic(topicid=i, topn=10), \"\\n\")"
      ],
      "execution_count": 255,
      "outputs": [
        {
          "output_type": "stream",
          "text": [
            "0 [('bank', 0.36724377), ('digital', 0.18106647), ('customer', 0.17590177), ('service', 0.0820359), ('new', 0.07875593), ('banking', 0.053456433), ('korea', 0.028211242), ('financial', 0.020785071), ('market', 0.009695195), ('virtual', 0.0028482757)] \n",
            "\n",
            "4 [('bank', 0.30580047), ('banking', 0.18909766), ('virtual', 0.1043617), ('financial', 0.06928973), ('customer', 0.06803639), ('new', 0.06717169), ('digital', 0.06531612), ('market', 0.05959398), ('service', 0.038440764), ('korea', 0.032891534)] \n",
            "\n",
            "3 [('bank', 0.2568022), ('korea', 0.24474497), ('financial', 0.12672916), ('market', 0.09187761), ('service', 0.09043411), ('digital', 0.049669903), ('virtual', 0.04865805), ('new', 0.048219964), ('banking', 0.030159382), ('customer', 0.012704701)] \n",
            "\n",
            "2 [('financial', 0.3639336), ('service', 0.20577799), ('bank', 0.094756015), ('korea', 0.08504793), ('market', 0.07041825), ('banking', 0.06152726), ('new', 0.054420218), ('customer', 0.040679537), ('digital', 0.015131226), ('virtual', 0.008307983)] \n",
            "\n",
            "1 [('virtual', 0.26595205), ('bank', 0.19558483), ('new', 0.1327998), ('banking', 0.10511593), ('service', 0.10345126), ('customer', 0.06540372), ('financial', 0.043900065), ('digital', 0.043175593), ('korea', 0.03125225), ('market', 0.013364566)] \n",
            "\n"
          ],
          "name": "stdout"
        }
      ]
    },
    {
      "cell_type": "code",
      "metadata": {
        "id": "YRjzH2N1Nvjw",
        "colab_type": "code",
        "colab": {}
      },
      "source": [
        ""
      ],
      "execution_count": 0,
      "outputs": []
    }
  ]
}